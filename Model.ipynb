{
 "cells": [
  {
   "cell_type": "code",
   "execution_count": 46,
   "metadata": {
    "collapsed": true
   },
   "outputs": [],
   "source": [
    "import numpy as np\n",
    "from sklearn.cross_validation import train_test_split\n",
    "from sklearn.metrics import mean_squared_error\n",
    "from sklearn.svm import SVR\n",
    "from sklearn.grid_search import GridSearchCV\n",
    "from sklearn.linear_model import LogisticRegression\n",
    "from sklearn.ensemble import AdaBoostClassifier\n",
    "import xgboost as xgb"
   ]
  },
  {
   "cell_type": "code",
   "execution_count": 21,
   "metadata": {
    "collapsed": false
   },
   "outputs": [],
   "source": [
    "# Load Train dataset\n",
    "data = np.loadtxt('train.in')\n",
    "# helpfulness | 7| 8| 9| 10| 11| 12-31| 32| 33| 34\n",
    "help_data_X = data[:, 7:34]\n",
    "help_data_y = data[:, 34]\n",
    "\n",
    "# clarity | 3| 4| 5| 6| 9| 10| 11| 12-31|32 |33| 35\n",
    "clar_data_X1 = data[:, 3:7]\n",
    "clar_data_X2 = data[:, 9:34]\n",
    "clar_data_X = np.concatenate((clar_data_X1, clar_data_X2), axis=1)\n",
    "clar_data_y = data[:, 35]\n",
    "\n",
    "quality = data[:, 36]"
   ]
  },
  {
   "cell_type": "code",
   "execution_count": 22,
   "metadata": {
    "collapsed": false
   },
   "outputs": [],
   "source": [
    "hX_train, hX_test, hy_train, hy_test = train_test_split(help_data_X, help_data_y, test_size=0.3, random_state=42)"
   ]
  },
  {
   "cell_type": "code",
   "execution_count": 23,
   "metadata": {
    "collapsed": false
   },
   "outputs": [],
   "source": [
    "cX_train, cX_test, cy_train, cy_test = train_test_split(clar_data_X, clar_data_y, test_size=0.3, random_state=42)"
   ]
  },
  {
   "cell_type": "code",
   "execution_count": 50,
   "metadata": {
    "collapsed": false
   },
   "outputs": [
    {
     "name": "stdout",
     "output_type": "stream",
     "text": [
      "MSE HELP: 2.36566319602\n"
     ]
    }
   ],
   "source": [
    "# svr = GridSearchCV(SVR(kernel='rbf', gamma=0.1), cv=5,\n",
    "#                    param_grid={\"C\": [1e0, 1e1, 1e2, 1e3],\n",
    "#                                \"gamma\": np.logspace(-2, 2, 5)})\n",
    "\n",
    "# svr = GridSearchCV(SVR(kernel='rbf', gamma=0.1), cv=5,\n",
    "#                    param_grid={\"C\": [1e0],\n",
    "#                                \"gamma\": np.logspace(-2,5)})\n",
    "# svr.fit(hX_train, hy_train)\n",
    "# y_svr = svr.predict(hX_test)\n",
    "# lr = LogisticRegression()\n",
    "# lr = AdaBoostClassifier(n_estimators=400,learning_rate=0.5)\n",
    "lr = xgb.XGBClassifier(n_estimators=400,max_depth=5)\n",
    "lr.fit(hX_train, hy_train)\n",
    "y_lr = lr.predict(hX_test)\n",
    "mse = mean_squared_error(hy_test, y_lr)\n",
    "print(\"MSE HELP: {}\".format(mse))"
   ]
  },
  {
   "cell_type": "code",
   "execution_count": 51,
   "metadata": {
    "collapsed": false
   },
   "outputs": [
    {
     "name": "stdout",
     "output_type": "stream",
     "text": [
      "MSE CLAR: 2.0418741512\n"
     ]
    }
   ],
   "source": [
    "# svr_c = GridSearchCV(SVR(kernel='rbf', gamma=0.1), cv=5,\n",
    "#                    param_grid={\"C\": [1e0, 1e1, 1e2, 1e3],\n",
    "#                                \"gamma\": np.logspace(-2, 2, 5)})\n",
    "# svr_c.fit(cX_train, cy_train)\n",
    "# y_svr_c = svr_c.predict(cX_test)\n",
    "# mse = mean_squared_error(cy_test, y_svr_c)\n",
    "# print(\"MSE: {}\".format(mse))\n",
    "# clr = LogisticRegression()\n",
    "clr = AdaBoostClassifier(n_estimators=500,learning_rate=0.3)\n",
    "# clr = xgb.XGBClassifier(n_estimators=500,max_depth=5)\n",
    "clr.fit(cX_train, cy_train)\n",
    "y_clr = clr.predict(cX_test)\n",
    "mse = mean_squared_error(cy_test, y_clr)\n",
    "print(\"MSE CLAR: {}\".format(mse))"
   ]
  },
  {
   "cell_type": "code",
   "execution_count": 34,
   "metadata": {
    "collapsed": false
   },
   "outputs": [],
   "source": [
    "# y_quality = [0 for i in range(len(y_clr))]\n",
    "# for i in range(len(y_clr)):\n",
    "#     y_quality[i] = y_clr[i] + y_lr[i]\n",
    "# mse = mean_squared_error(quality, y_quality)\n",
    "# print(\"MSE ALL: {}\".format(mse))\n",
    "    \n"
   ]
  },
  {
   "cell_type": "code",
   "execution_count": 52,
   "metadata": {
    "collapsed": true
   },
   "outputs": [],
   "source": [
    "# Load Test dataset\n",
    "data = np.loadtxt('test.in')\n",
    "# helpfulness | 7| 8| 9| 10| 11| 12-31| 32| 33| 34\n",
    "help_test = data[:, 7:34]\n",
    "\n",
    "# clarity | 3| 4| 5| 6| 9| 10| 11| 12-31|32 |33| 35\n",
    "clar_test1 = data[:, 3:7]\n",
    "clar_test2 = data[:, 9:34]\n",
    "clar_test = np.concatenate((clar_test1, clar_test2), axis=1)\n"
   ]
  },
  {
   "cell_type": "code",
   "execution_count": 53,
   "metadata": {
    "collapsed": true
   },
   "outputs": [],
   "source": [
    "# lr = LogisticRegression()\n",
    "# lr = AdaBoostClassifier(n_estimators=400,learning_rate=0.5)\n",
    "lr = xgb.XGBClassifier(n_estimators=400,max_depth=5)\n",
    "lr.fit(help_data_X, help_data_y)\n",
    "y_lr = lr.predict(help_test)\n",
    "# clr = LogisticRegression()\n",
    "clr = AdaBoostClassifier(n_estimators=500,learning_rate=0.3)\n",
    "clr.fit(clar_data_X, clar_data_y)\n",
    "y_clr = clr.predict(clar_test)\n",
    "y_quality = [0 for i in range(len(y_clr))]\n",
    "outfile = open('predit.out','wb')\n",
    "for i in range(len(y_clr)):\n",
    "    y_quality[i] = y_clr[i] + y_lr[i]\n",
    "    outfile.write(str(y_quality[i]) + '\\n')"
   ]
  },
  {
   "cell_type": "code",
   "execution_count": 54,
   "metadata": {
    "collapsed": true
   },
   "outputs": [],
   "source": [
    "outfile.close()"
   ]
  },
  {
   "cell_type": "code",
   "execution_count": null,
   "metadata": {
    "collapsed": true
   },
   "outputs": [],
   "source": []
  }
 ],
 "metadata": {
  "kernelspec": {
   "display_name": "Python 2",
   "language": "python",
   "name": "python2"
  },
  "language_info": {
   "codemirror_mode": {
    "name": "ipython",
    "version": 2
   },
   "file_extension": ".py",
   "mimetype": "text/x-python",
   "name": "python",
   "nbconvert_exporter": "python",
   "pygments_lexer": "ipython2",
   "version": "2.7.11+"
  }
 },
 "nbformat": 4,
 "nbformat_minor": 1
}
