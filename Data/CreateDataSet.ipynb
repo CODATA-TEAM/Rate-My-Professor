{
 "cells": [
  {
   "cell_type": "code",
   "execution_count": 1,
   "metadata": {
    "collapsed": false
   },
   "outputs": [],
   "source": [
    "import pandas as pd\n",
    "import os\n",
    "import numpy as np\n",
    "os.listdir(\"/home/vagrant/Project/Rate-My-Professor/Data/\")\n",
    "data = pd.read_csv(\"/home/vagrant/Project/Rate-My-Professor/Data/train.csv\")"
   ]
  },
  {
   "cell_type": "code",
   "execution_count": 2,
   "metadata": {
    "collapsed": false
   },
   "outputs": [],
   "source": [
    "id = data['id']\n",
    "tid = data['tid']\n",
    "dept = np.loadtxt('dept_num.out')\n",
    "forcredit = np.loadtxt('forcredit.out')\n",
    "attendance = np.loadtxt('attendance.out')\n",
    "textbookuse = np.loadtxt('textbookuse.out')\n",
    "interest = np.loadtxt('interest.out')\n",
    "cleaneddata = np.loadtxt('cleaneddata.out')\n",
    "tags = np.loadtxt('tags.out')\n",
    "grade = np.loadtxt('grade.out')\n",
    "comments = np.loadtxt('comments.out')\n",
    "helpful = data['helpfulness']\n",
    "clarity = data['clarity']\n",
    "quality = data['quality']\n",
    "file = open('train.in','wb')"
   ]
  },
  {
   "cell_type": "code",
   "execution_count": 3,
   "metadata": {
    "collapsed": true
   },
   "outputs": [],
   "source": [
    "for i in range(len(grade)):\n",
    "    file.write(str(id[i]) + ' ')\n",
    "    file.write(str(tid[i]) + ' ')\n",
    "    file.write(str(dept[i]) + ' ')\n",
    "    file.write(str(forcredit[i]) + ' ')\n",
    "    file.write(str(attendance[i]) + ' ')\n",
    "    file.write(str(textbookuse[i]) + ' ')\n",
    "    file.write(str(interest[i]) + ' ')\n",
    "    for j in range(len(cleaneddata[i])): \n",
    "        file.write(str(cleaneddata[i][j]) + ' ')\n",
    "    for j in range(len(tags[i])): \n",
    "        file.write(str(tags[i][j]) + ' ')\n",
    "    file.write(str(grade[i]) + ' ')\n",
    "    file.write(str(comments[i]) + ' ')\n",
    "    file.write(str(helpful[i]) + ' ')\n",
    "    file.write(str(clarity[i]) + ' ')\n",
    "    file.write(str(quality[i]) + '\\n')\n",
    "file.close()"
   ]
  },
  {
   "cell_type": "code",
   "execution_count": 4,
   "metadata": {
    "collapsed": false
   },
   "outputs": [
    {
     "data": {
      "text/plain": [
       "117811"
      ]
     },
     "execution_count": 4,
     "metadata": {},
     "output_type": "execute_result"
    }
   ],
   "source": [
    "train = np.loadtxt('train.in')\n",
    "len(train)"
   ]
  },
  {
   "cell_type": "code",
   "execution_count": 5,
   "metadata": {
    "collapsed": true
   },
   "outputs": [],
   "source": [
    "data = pd.read_csv(\"/home/vagrant/Project/Rate-My-Professor/Data/test.csv\")"
   ]
  },
  {
   "cell_type": "code",
   "execution_count": 6,
   "metadata": {
    "collapsed": true
   },
   "outputs": [],
   "source": [
    "id = data['id']\n",
    "tid = data['tid']\n",
    "# dept = np.loadtxt('dept_num.out')\n",
    "dept = data['tid']\n",
    "forcredit = np.loadtxt('forcredit_test.out')\n",
    "attendance = np.loadtxt('attendance_test.out')\n",
    "textbookuse = np.loadtxt('textbookuse_test.out')\n",
    "interest = np.loadtxt('interest_test.out')\n",
    "cleaneddata = np.loadtxt('cleaneddata_test.out')\n",
    "tags = np.loadtxt('tags_test.out')\n",
    "grade = np.loadtxt('grade_test.out')\n",
    "comments = np.loadtxt('comments_test.out')\n",
    "# helpful = data['helpfulness']\n",
    "# clarity = data['clarity']\n",
    "# quality = data['quality']\n",
    "file = open('test.in','wb')"
   ]
  },
  {
   "cell_type": "code",
   "execution_count": 7,
   "metadata": {
    "collapsed": true
   },
   "outputs": [],
   "source": [
    "for i in range(len(grade)):\n",
    "    file.write(str(id[i]) + ' ')\n",
    "    file.write(str(tid[i]) + ' ')\n",
    "    file.write(str(dept[i]) + ' ')\n",
    "    file.write(str(forcredit[i]) + ' ')\n",
    "    file.write(str(attendance[i]) + ' ')\n",
    "    file.write(str(textbookuse[i]) + ' ')\n",
    "    file.write(str(interest[i]) + ' ')\n",
    "    for j in range(len(cleaneddata[i])): \n",
    "        file.write(str(cleaneddata[i][j]) + ' ')\n",
    "    for j in range(len(tags[i])): \n",
    "        file.write(str(tags[i][j]) + ' ')\n",
    "    file.write(str(grade[i]) + ' ')\n",
    "    file.write(str(comments[i]) + '\\n')\n",
    "#     file.write(str(helpful[i]) + ' ')\n",
    "#     file.write(str(clarity[i]) + ' ')\n",
    "#     file.write(str(quality[i]) + '\\n')\n",
    "file.close()"
   ]
  },
  {
   "cell_type": "code",
   "execution_count": 8,
   "metadata": {
    "collapsed": false
   },
   "outputs": [
    {
     "data": {
      "text/plain": [
       "34"
      ]
     },
     "execution_count": 8,
     "metadata": {},
     "output_type": "execute_result"
    }
   ],
   "source": [
    "test = np.loadtxt('test.in')\n",
    "len(test[1])"
   ]
  },
  {
   "cell_type": "code",
   "execution_count": null,
   "metadata": {
    "collapsed": true
   },
   "outputs": [],
   "source": []
  }
 ],
 "metadata": {
  "celltoolbar": "Raw Cell Format",
  "kernelspec": {
   "display_name": "Python 2",
   "language": "python",
   "name": "python2"
  },
  "language_info": {
   "codemirror_mode": {
    "name": "ipython",
    "version": 2
   },
   "file_extension": ".py",
   "mimetype": "text/x-python",
   "name": "python",
   "nbconvert_exporter": "python",
   "pygments_lexer": "ipython2",
   "version": "2.7.11+"
  }
 },
 "nbformat": 4,
 "nbformat_minor": 1
}
